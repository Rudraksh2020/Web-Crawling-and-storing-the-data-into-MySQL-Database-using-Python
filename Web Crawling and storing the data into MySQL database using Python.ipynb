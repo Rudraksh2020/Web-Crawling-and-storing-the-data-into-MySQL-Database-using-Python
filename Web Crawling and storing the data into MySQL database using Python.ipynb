{
 "cells": [
  {
   "cell_type": "code",
   "execution_count": 1,
   "id": "cce25f6f",
   "metadata": {},
   "outputs": [],
   "source": [
    "import requests\n",
    "import pandas as pd\n",
    "import mysql.connector\n",
    "import sqlalchemy\n",
    "from bs4 import BeautifulSoup"
   ]
  },
  {
   "cell_type": "code",
   "execution_count": 2,
   "id": "55d0e7d2",
   "metadata": {},
   "outputs": [],
   "source": [
    "url='https://www.cbinsights.com/research-unicorn-companies'\n",
    "data=requests.get(url).text"
   ]
  },
  {
   "cell_type": "code",
   "execution_count": 3,
   "id": "920132dc",
   "metadata": {},
   "outputs": [],
   "source": [
    "soup = BeautifulSoup(data, 'html.parser')"
   ]
  },
  {
   "cell_type": "code",
   "execution_count": 4,
   "id": "90e6186c",
   "metadata": {},
   "outputs": [
    {
     "name": "stdout",
     "output_type": "stream",
     "text": [
      "['sortable-theme-bootstrap']\n"
     ]
    }
   ],
   "source": [
    "for table in soup.find_all('table'):\n",
    "    print(table.get('class'))"
   ]
  },
  {
   "cell_type": "code",
   "execution_count": 5,
   "id": "15845dd5",
   "metadata": {},
   "outputs": [],
   "source": [
    "table=soup.find('table',class_='sortable-theme-bootstrap')"
   ]
  },
  {
   "cell_type": "code",
   "execution_count": 6,
   "id": "3ac93596",
   "metadata": {},
   "outputs": [],
   "source": [
    "df=pd.DataFrame(columns=['Company','Valuation','Date_Joined','Country','City','Industry','Selector_Investors'])"
   ]
  },
  {
   "cell_type": "code",
   "execution_count": 7,
   "id": "5923c3a1",
   "metadata": {},
   "outputs": [],
   "source": [
    "for row in table.find_all('tr'):\n",
    "    columns=row.find_all('td')\n",
    "    if(columns!=[]):\n",
    "        comapany=columns[0].text.strip()\n",
    "        valuation=columns[1].text.strip()\n",
    "        date_Joined=columns[2].text.strip()\n",
    "        country=columns[3].text.strip()\n",
    "        city=columns[4].text.strip()\n",
    "        industry=columns[5].text.strip()\n",
    "        selector=columns[6].text.strip()\n",
    "        \n",
    "        df=df.append({'Company':comapany,'Valuation':valuation,'Date_Joined':date_Joined,'Country':country,\n",
    "                      'City':city,'Industry':industry,'Selector_Investors':selector},ignore_index=True)"
   ]
  },
  {
   "cell_type": "code",
   "execution_count": 8,
   "id": "c590183c",
   "metadata": {},
   "outputs": [
    {
     "data": {
      "text/html": [
       "<div>\n",
       "<style scoped>\n",
       "    .dataframe tbody tr th:only-of-type {\n",
       "        vertical-align: middle;\n",
       "    }\n",
       "\n",
       "    .dataframe tbody tr th {\n",
       "        vertical-align: top;\n",
       "    }\n",
       "\n",
       "    .dataframe thead th {\n",
       "        text-align: right;\n",
       "    }\n",
       "</style>\n",
       "<table border=\"1\" class=\"dataframe\">\n",
       "  <thead>\n",
       "    <tr style=\"text-align: right;\">\n",
       "      <th></th>\n",
       "      <th>Company</th>\n",
       "      <th>Valuation</th>\n",
       "      <th>Date_Joined</th>\n",
       "      <th>Country</th>\n",
       "      <th>City</th>\n",
       "      <th>Industry</th>\n",
       "      <th>Selector_Investors</th>\n",
       "    </tr>\n",
       "  </thead>\n",
       "  <tbody>\n",
       "    <tr>\n",
       "      <th>0</th>\n",
       "      <td>ByteDance</td>\n",
       "      <td>$140</td>\n",
       "      <td>4/7/2017</td>\n",
       "      <td>China</td>\n",
       "      <td>Beijing</td>\n",
       "      <td>Artificial intelligence</td>\n",
       "      <td>Sequoia Capital China, SIG Asia Investments, S...</td>\n",
       "    </tr>\n",
       "    <tr>\n",
       "      <th>1</th>\n",
       "      <td>SpaceX</td>\n",
       "      <td>$127</td>\n",
       "      <td>12/1/2012</td>\n",
       "      <td>United States</td>\n",
       "      <td>Hawthorne</td>\n",
       "      <td>Other</td>\n",
       "      <td>Founders Fund, Draper Fisher Jurvetson, Rothen...</td>\n",
       "    </tr>\n",
       "    <tr>\n",
       "      <th>2</th>\n",
       "      <td>SHEIN</td>\n",
       "      <td>$100</td>\n",
       "      <td>7/3/2018</td>\n",
       "      <td>China</td>\n",
       "      <td>Shenzhen</td>\n",
       "      <td>E-commerce &amp; direct-to-consumer</td>\n",
       "      <td>Tiger Global Management, Sequoia Capital China...</td>\n",
       "    </tr>\n",
       "    <tr>\n",
       "      <th>3</th>\n",
       "      <td>Stripe</td>\n",
       "      <td>$95</td>\n",
       "      <td>1/23/2014</td>\n",
       "      <td>United States</td>\n",
       "      <td>San Francisco</td>\n",
       "      <td>Fintech</td>\n",
       "      <td>Khosla Ventures, LowercaseCapital, capitalG</td>\n",
       "    </tr>\n",
       "    <tr>\n",
       "      <th>4</th>\n",
       "      <td>Canva</td>\n",
       "      <td>$40</td>\n",
       "      <td>1/8/2018</td>\n",
       "      <td>Australia</td>\n",
       "      <td>Surry Hills</td>\n",
       "      <td>Internet software &amp; services</td>\n",
       "      <td>Sequoia Capital China, Blackbird Ventures, Mat...</td>\n",
       "    </tr>\n",
       "    <tr>\n",
       "      <th>...</th>\n",
       "      <td>...</td>\n",
       "      <td>...</td>\n",
       "      <td>...</td>\n",
       "      <td>...</td>\n",
       "      <td>...</td>\n",
       "      <td>...</td>\n",
       "      <td>...</td>\n",
       "    </tr>\n",
       "    <tr>\n",
       "      <th>1193</th>\n",
       "      <td>LeadSquared</td>\n",
       "      <td>$1</td>\n",
       "      <td>6/21/2022</td>\n",
       "      <td>India</td>\n",
       "      <td>Bengaluru</td>\n",
       "      <td>Internet software &amp; services</td>\n",
       "      <td>Gaja Capital Partners, Stakeboat Capital, West...</td>\n",
       "    </tr>\n",
       "    <tr>\n",
       "      <th>1194</th>\n",
       "      <td>FourKites</td>\n",
       "      <td>$1</td>\n",
       "      <td>6/21/2022</td>\n",
       "      <td>United States</td>\n",
       "      <td>Chicago</td>\n",
       "      <td>Supply chain, logistics, &amp; delivery</td>\n",
       "      <td>Hyde Park Venture Partners, Bain Capital Ventu...</td>\n",
       "    </tr>\n",
       "    <tr>\n",
       "      <th>1195</th>\n",
       "      <td>VulcanForms</td>\n",
       "      <td>$1</td>\n",
       "      <td>7/5/2022</td>\n",
       "      <td>United States</td>\n",
       "      <td>Burlington</td>\n",
       "      <td>Supply chain, logistics, &amp; delivery</td>\n",
       "      <td>Eclipse Ventures, D1 Capital Partners, Industr...</td>\n",
       "    </tr>\n",
       "    <tr>\n",
       "      <th>1196</th>\n",
       "      <td>SingleStore</td>\n",
       "      <td>$1</td>\n",
       "      <td>7/12/2022</td>\n",
       "      <td>United States</td>\n",
       "      <td>San Francisco</td>\n",
       "      <td>Data management &amp; analytics</td>\n",
       "      <td>Google Ventures, Accel, Data Collective</td>\n",
       "    </tr>\n",
       "    <tr>\n",
       "      <th>1197</th>\n",
       "      <td>Unstoppable Domains</td>\n",
       "      <td>$1</td>\n",
       "      <td>7/27/2022</td>\n",
       "      <td>United States</td>\n",
       "      <td>Las Vegas</td>\n",
       "      <td>Internet software &amp; services</td>\n",
       "      <td>Boost VC, Draper Associates, Gaingels</td>\n",
       "    </tr>\n",
       "  </tbody>\n",
       "</table>\n",
       "<p>1198 rows × 7 columns</p>\n",
       "</div>"
      ],
      "text/plain": [
       "                  Company Valuation Date_Joined        Country           City  \\\n",
       "0               ByteDance      $140    4/7/2017          China        Beijing   \n",
       "1                  SpaceX      $127   12/1/2012  United States      Hawthorne   \n",
       "2                   SHEIN      $100    7/3/2018          China       Shenzhen   \n",
       "3                  Stripe       $95   1/23/2014  United States  San Francisco   \n",
       "4                   Canva       $40    1/8/2018      Australia    Surry Hills   \n",
       "...                   ...       ...         ...            ...            ...   \n",
       "1193          LeadSquared        $1   6/21/2022          India      Bengaluru   \n",
       "1194            FourKites        $1   6/21/2022  United States        Chicago   \n",
       "1195          VulcanForms        $1    7/5/2022  United States     Burlington   \n",
       "1196          SingleStore        $1   7/12/2022  United States  San Francisco   \n",
       "1197  Unstoppable Domains        $1   7/27/2022  United States      Las Vegas   \n",
       "\n",
       "                                 Industry  \\\n",
       "0                 Artificial intelligence   \n",
       "1                                   Other   \n",
       "2         E-commerce & direct-to-consumer   \n",
       "3                                 Fintech   \n",
       "4            Internet software & services   \n",
       "...                                   ...   \n",
       "1193         Internet software & services   \n",
       "1194  Supply chain, logistics, & delivery   \n",
       "1195  Supply chain, logistics, & delivery   \n",
       "1196          Data management & analytics   \n",
       "1197         Internet software & services   \n",
       "\n",
       "                                     Selector_Investors  \n",
       "0     Sequoia Capital China, SIG Asia Investments, S...  \n",
       "1     Founders Fund, Draper Fisher Jurvetson, Rothen...  \n",
       "2     Tiger Global Management, Sequoia Capital China...  \n",
       "3           Khosla Ventures, LowercaseCapital, capitalG  \n",
       "4     Sequoia Capital China, Blackbird Ventures, Mat...  \n",
       "...                                                 ...  \n",
       "1193  Gaja Capital Partners, Stakeboat Capital, West...  \n",
       "1194  Hyde Park Venture Partners, Bain Capital Ventu...  \n",
       "1195  Eclipse Ventures, D1 Capital Partners, Industr...  \n",
       "1196            Google Ventures, Accel, Data Collective  \n",
       "1197              Boost VC, Draper Associates, Gaingels  \n",
       "\n",
       "[1198 rows x 7 columns]"
      ]
     },
     "execution_count": 8,
     "metadata": {},
     "output_type": "execute_result"
    }
   ],
   "source": [
    "df"
   ]
  },
  {
   "cell_type": "code",
   "execution_count": 9,
   "id": "c68b98f4",
   "metadata": {},
   "outputs": [],
   "source": [
    "database_username = 'root'\n",
    "database_password = 'newrootpassword'\n",
    "database_ip       = '127.0.0.1'\n",
    "database_name     = 'web_crawling'"
   ]
  },
  {
   "cell_type": "code",
   "execution_count": 10,
   "id": "955a18ce",
   "metadata": {},
   "outputs": [],
   "source": [
    "database_connection = sqlalchemy.create_engine('mysql+mysqlconnector://{0}:{1}@{2}/{3}'.\n",
    "                                               format(database_username, database_password, \n",
    "                                                      database_ip, database_name), pool_recycle=1, pool_timeout=57600).connect()\n"
   ]
  },
  {
   "cell_type": "code",
   "execution_count": 11,
   "id": "31bea100",
   "metadata": {},
   "outputs": [
    {
     "name": "stderr",
     "output_type": "stream",
     "text": [
      "C:\\Users\\rudra\\anaconda3\\lib\\site-packages\\pandas\\io\\sql.py:1444: UserWarning: The provided table name 'Unicorn_Companies' is not found exactly as such in the database after writing the table, possibly due to case sensitivity issues. Consider using lower case table names.\n",
      "  warnings.warn(msg, UserWarning)\n"
     ]
    }
   ],
   "source": [
    "df.to_sql(con=database_connection, name='Unicorn_Companies', if_exists='append',chunksize=100)"
   ]
  },
  {
   "cell_type": "code",
   "execution_count": 12,
   "id": "09934ed0",
   "metadata": {},
   "outputs": [],
   "source": [
    "database_connection.close()"
   ]
  },
  {
   "cell_type": "code",
   "execution_count": null,
   "id": "3e74b77b",
   "metadata": {},
   "outputs": [],
   "source": []
  }
 ],
 "metadata": {
  "kernelspec": {
   "display_name": "Python 3",
   "language": "python",
   "name": "python3"
  },
  "language_info": {
   "codemirror_mode": {
    "name": "ipython",
    "version": 3
   },
   "file_extension": ".py",
   "mimetype": "text/x-python",
   "name": "python",
   "nbconvert_exporter": "python",
   "pygments_lexer": "ipython3",
   "version": "3.8.8"
  }
 },
 "nbformat": 4,
 "nbformat_minor": 5
}
